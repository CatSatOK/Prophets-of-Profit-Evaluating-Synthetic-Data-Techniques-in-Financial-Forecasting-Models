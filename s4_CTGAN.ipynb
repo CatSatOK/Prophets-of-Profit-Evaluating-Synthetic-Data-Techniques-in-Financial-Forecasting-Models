{
 "cells": [
  {
   "cell_type": "code",
   "execution_count": null,
   "metadata": {},
   "outputs": [],
   "source": [
    "#Imports\n",
    "import pandas as pd\n",
    "import numpy as np\n",
    "\n",
    "from sklearn.preprocessing import MinMaxScaler\n",
    "\n",
    "from ctgan import CTGAN"
   ]
  },
  {
   "cell_type": "code",
   "execution_count": 2,
   "metadata": {},
   "outputs": [],
   "source": [
    "#loading the data\n",
    "real_data = pd.read_csv('../Data/GOOG.csv')"
   ]
  },
  {
   "cell_type": "code",
   "execution_count": 3,
   "metadata": {},
   "outputs": [],
   "source": [
    "#function to make sequences of the time series data\n",
    "def series_to_supervised(data, n_in=1, n_out=1, dropnan=True):\n",
    "    n_vars = 1 if type(data) is list else data.shape[1]\n",
    "    df = pd.DataFrame(data)\n",
    "    cols, names = list(), list()\n",
    "    \n",
    "    #input sequence (t-n, ... t-1)\n",
    "    for i in range(n_in, 0, -1):\n",
    "        cols.append(df.shift(i))\n",
    "        names += [('var%d(t-%d)' % (j+1, i)) for j in range(n_vars)]\n",
    "        \n",
    "    #forecast sequence (t, t+1, ... t+n)\n",
    "    for i in range(0, n_out):\n",
    "        cols.append(df.shift(-i))\n",
    "        if i == 0:\n",
    "            names += [('var%d(t)' % (j+1)) for j in range(n_vars)]\n",
    "        else:\n",
    "            names += [('var%d(t+%d)' % (j+1, i)) for j in range(n_vars)]\n",
    "    \n",
    "    #concat\n",
    "    agg = pd.concat(cols, axis=1)\n",
    "    agg.columns = names\n",
    "    # drop rows with NaN values\n",
    "    if dropnan:\n",
    "        agg.dropna(inplace=True)\n",
    "    return agg"
   ]
  },
  {
   "cell_type": "code",
   "execution_count": 4,
   "metadata": {},
   "outputs": [],
   "source": [
    "#seperating the Date column\n",
    "date_column = real_data['Date']\n",
    "real_data_without_date = real_data.drop('Date', axis=1)"
   ]
  },
  {
   "cell_type": "code",
   "execution_count": 10,
   "metadata": {},
   "outputs": [],
   "source": [
    "#normalizing the continuous data columns\n",
    "continuous_columns = ['Open', 'High', 'Low', 'Adj Close', 'MSFT Close', 'AMZN Close',\n",
    "       'META Close', 'AAPL Close', '7ma', '14ma', '21ma', '7atr', '14atr',\n",
    "       '21atr', '7upper', '7lower', '14upper', '14lower', '21upper', '21lower',\n",
    "       'Close']\n",
    "\n",
    "scaler = MinMaxScaler()\n",
    "real_data_without_date[continuous_columns] = scaler.fit_transform(real_data_without_date[continuous_columns])"
   ]
  },
  {
   "cell_type": "code",
   "execution_count": 11,
   "metadata": {},
   "outputs": [],
   "source": [
    "#vonvert the data into 30 day sequences\n",
    "sequence_length = 30\n",
    "data_sequences = series_to_supervised(real_data_without_date.values, n_in=sequence_length)"
   ]
  },
  {
   "cell_type": "code",
   "execution_count": 13,
   "metadata": {},
   "outputs": [],
   "source": [
    "#training CTGAN on the sequence data\n",
    "ctgan = CTGAN(epochs=500)\n",
    "ctgan.fit(data_sequences)"
   ]
  },
  {
   "cell_type": "code",
   "execution_count": null,
   "metadata": {},
   "outputs": [],
   "source": [
    "#generating synthetic sequences\n",
    "synthetic_sequences = ctgan.sample(len(data_sequences))\n",
    "\n",
    "#converting sequences back to time series format\n",
    "current_timestep_cols = [col for col in synthetic_sequences.columns if '(t)' in col]\n",
    "synthetic_data = synthetic_sequences[current_timestep_cols]\n",
    "synthetic_data.columns = real_data_without_date.columns  # renaming columns back to original\n",
    "\n",
    "#sssigning starting dates\n",
    "synthetic_data['Date'] = date_column.iloc[sequence_length-1:].reset_index(drop=True)\n",
    "\n",
    "#reversing the normalization\n",
    "synthetic_data[continuous_columns] = scaler.inverse_transform(synthetic_data[continuous_columns])\n",
    "\n",
    "#reordering the columns to original order\n",
    "synthetic_data = synthetic_data[real_data.columns]"
   ]
  },
  {
   "cell_type": "code",
   "execution_count": 15,
   "metadata": {},
   "outputs": [
    {
     "name": "stdout",
     "output_type": "stream",
     "text": [
      "<class 'pandas.core.frame.DataFrame'>\n",
      "RangeIndex: 2467 entries, 0 to 2466\n",
      "Data columns (total 22 columns):\n",
      " #   Column      Non-Null Count  Dtype  \n",
      "---  ------      --------------  -----  \n",
      " 0   Date        2467 non-null   object \n",
      " 1   Open        2467 non-null   float64\n",
      " 2   High        2467 non-null   float64\n",
      " 3   Low         2467 non-null   float64\n",
      " 4   Adj Close   2467 non-null   float64\n",
      " 5   MSFT Close  2467 non-null   float64\n",
      " 6   AMZN Close  2467 non-null   float64\n",
      " 7   META Close  2467 non-null   float64\n",
      " 8   AAPL Close  2467 non-null   float64\n",
      " 9   7ma         2467 non-null   float64\n",
      " 10  14ma        2467 non-null   float64\n",
      " 11  21ma        2467 non-null   float64\n",
      " 12  7atr        2467 non-null   float64\n",
      " 13  14atr       2467 non-null   float64\n",
      " 14  21atr       2467 non-null   float64\n",
      " 15  7upper      2467 non-null   float64\n",
      " 16  7lower      2467 non-null   float64\n",
      " 17  14upper     2467 non-null   float64\n",
      " 18  14lower     2467 non-null   float64\n",
      " 19  21upper     2467 non-null   float64\n",
      " 20  21lower     2467 non-null   float64\n",
      " 21  Close       2467 non-null   float64\n",
      "dtypes: float64(21), object(1)\n",
      "memory usage: 424.1+ KB\n"
     ]
    }
   ],
   "source": [
    "#saving\n",
    "synthetic_data.to_csv(\"../Data/CTGAN_synth_data.csv\")\n",
    "\n",
    "#seeing what it looks like\n",
    "synthetic_data.info()"
   ]
  },
  {
   "cell_type": "code",
   "execution_count": null,
   "metadata": {},
   "outputs": [],
   "source": []
  }
 ],
 "metadata": {
  "kernelspec": {
   "display_name": "synth",
   "language": "python",
   "name": "synth"
  },
  "language_info": {
   "codemirror_mode": {
    "name": "ipython",
    "version": 3
   },
   "file_extension": ".py",
   "mimetype": "text/x-python",
   "name": "python",
   "nbconvert_exporter": "python",
   "pygments_lexer": "ipython3",
   "version": "3.9.13"
  }
 },
 "nbformat": 4,
 "nbformat_minor": 2
}
